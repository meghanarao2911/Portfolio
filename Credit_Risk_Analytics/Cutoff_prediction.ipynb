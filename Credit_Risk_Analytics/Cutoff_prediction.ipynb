{
 "cells": [
  {
   "cell_type": "code",
   "execution_count": 14,
   "metadata": {},
   "outputs": [
    {
     "name": "stdout",
     "output_type": "stream",
     "text": [
      "C:\\Users\\mghn_\\Desktop\\Imarticus_Project\n"
     ]
    }
   ],
   "source": [
    "import os\n",
    "path = \"C:/Users/mghn_/Desktop/Imarticus_Project\"\n",
    "os.chdir(path)\n",
    "print(os.getcwd())"
   ]
  },
  {
   "cell_type": "code",
   "execution_count": 15,
   "metadata": {},
   "outputs": [
    {
     "name": "stdout",
     "output_type": "stream",
     "text": [
      "C:\\Users\\mghn_\\Desktop\\Imarticus_Project\n"
     ]
    }
   ],
   "source": [
    "print(os.getcwd())"
   ]
  },
  {
   "cell_type": "code",
   "execution_count": 16,
   "metadata": {},
   "outputs": [],
   "source": [
    "import pandas as pd\n",
    "import numpy as np\n",
    "\n",
    "data=pd.read_csv(\"TrainData_CSM.csv\")"
   ]
  },
  {
   "cell_type": "code",
   "execution_count": 17,
   "metadata": {},
   "outputs": [
    {
     "data": {
      "text/html": [
       "<div>\n",
       "<style scoped>\n",
       "    .dataframe tbody tr th:only-of-type {\n",
       "        vertical-align: middle;\n",
       "    }\n",
       "\n",
       "    .dataframe tbody tr th {\n",
       "        vertical-align: top;\n",
       "    }\n",
       "\n",
       "    .dataframe thead th {\n",
       "        text-align: right;\n",
       "    }\n",
       "</style>\n",
       "<table border=\"1\" class=\"dataframe\">\n",
       "  <thead>\n",
       "    <tr style=\"text-align: right;\">\n",
       "      <th></th>\n",
       "      <th>loan_amnt</th>\n",
       "      <th>term</th>\n",
       "      <th>int_rate</th>\n",
       "      <th>grade</th>\n",
       "      <th>sub_grade</th>\n",
       "      <th>emp_title</th>\n",
       "      <th>emp_length</th>\n",
       "      <th>home_ownership</th>\n",
       "      <th>annual_inc</th>\n",
       "      <th>verification_status</th>\n",
       "      <th>...</th>\n",
       "      <th>total_rec_late_fee</th>\n",
       "      <th>recoveries</th>\n",
       "      <th>last_pymnt_amnt</th>\n",
       "      <th>collections_12_mths_ex_med</th>\n",
       "      <th>policy_code</th>\n",
       "      <th>application_type</th>\n",
       "      <th>acc_now_delinq</th>\n",
       "      <th>tot_coll_amt</th>\n",
       "      <th>tot_cur_bal</th>\n",
       "      <th>default_ind</th>\n",
       "    </tr>\n",
       "  </thead>\n",
       "  <tbody>\n",
       "    <tr>\n",
       "      <th>0</th>\n",
       "      <td>5000.0</td>\n",
       "      <td>0</td>\n",
       "      <td>10.65</td>\n",
       "      <td>1</td>\n",
       "      <td>21</td>\n",
       "      <td>150119</td>\n",
       "      <td>10.0</td>\n",
       "      <td>2</td>\n",
       "      <td>24000.0</td>\n",
       "      <td>2</td>\n",
       "      <td>...</td>\n",
       "      <td>0.0</td>\n",
       "      <td>0.0</td>\n",
       "      <td>171.62</td>\n",
       "      <td>0.0</td>\n",
       "      <td>1.0</td>\n",
       "      <td>0</td>\n",
       "      <td>0.0</td>\n",
       "      <td>0.0</td>\n",
       "      <td>81008.5</td>\n",
       "      <td>0</td>\n",
       "    </tr>\n",
       "    <tr>\n",
       "      <th>1</th>\n",
       "      <td>2500.0</td>\n",
       "      <td>1</td>\n",
       "      <td>15.27</td>\n",
       "      <td>2</td>\n",
       "      <td>33</td>\n",
       "      <td>186161</td>\n",
       "      <td>0.5</td>\n",
       "      <td>2</td>\n",
       "      <td>30000.0</td>\n",
       "      <td>1</td>\n",
       "      <td>...</td>\n",
       "      <td>0.0</td>\n",
       "      <td>0.0</td>\n",
       "      <td>119.66</td>\n",
       "      <td>0.0</td>\n",
       "      <td>1.0</td>\n",
       "      <td>0</td>\n",
       "      <td>0.0</td>\n",
       "      <td>0.0</td>\n",
       "      <td>81008.5</td>\n",
       "      <td>1</td>\n",
       "    </tr>\n",
       "    <tr>\n",
       "      <th>2</th>\n",
       "      <td>2400.0</td>\n",
       "      <td>0</td>\n",
       "      <td>15.96</td>\n",
       "      <td>2</td>\n",
       "      <td>34</td>\n",
       "      <td>150119</td>\n",
       "      <td>10.0</td>\n",
       "      <td>2</td>\n",
       "      <td>12252.0</td>\n",
       "      <td>0</td>\n",
       "      <td>...</td>\n",
       "      <td>0.0</td>\n",
       "      <td>0.0</td>\n",
       "      <td>649.91</td>\n",
       "      <td>0.0</td>\n",
       "      <td>1.0</td>\n",
       "      <td>0</td>\n",
       "      <td>0.0</td>\n",
       "      <td>0.0</td>\n",
       "      <td>81008.5</td>\n",
       "      <td>0</td>\n",
       "    </tr>\n",
       "  </tbody>\n",
       "</table>\n",
       "<p>3 rows × 39 columns</p>\n",
       "</div>"
      ],
      "text/plain": [
       "   loan_amnt  term  int_rate  grade  sub_grade  emp_title  emp_length  \\\n",
       "0     5000.0     0     10.65      1         21     150119        10.0   \n",
       "1     2500.0     1     15.27      2         33     186161         0.5   \n",
       "2     2400.0     0     15.96      2         34     150119        10.0   \n",
       "\n",
       "   home_ownership  annual_inc  verification_status     ...       \\\n",
       "0               2     24000.0                    2     ...        \n",
       "1               2     30000.0                    1     ...        \n",
       "2               2     12252.0                    0     ...        \n",
       "\n",
       "  total_rec_late_fee  recoveries  last_pymnt_amnt  collections_12_mths_ex_med  \\\n",
       "0                0.0         0.0           171.62                         0.0   \n",
       "1                0.0         0.0           119.66                         0.0   \n",
       "2                0.0         0.0           649.91                         0.0   \n",
       "\n",
       "   policy_code  application_type  acc_now_delinq  tot_coll_amt  tot_cur_bal  \\\n",
       "0          1.0                 0             0.0           0.0      81008.5   \n",
       "1          1.0                 0             0.0           0.0      81008.5   \n",
       "2          1.0                 0             0.0           0.0      81008.5   \n",
       "\n",
       "   default_ind  \n",
       "0            0  \n",
       "1            1  \n",
       "2            0  \n",
       "\n",
       "[3 rows x 39 columns]"
      ]
     },
     "execution_count": 17,
     "metadata": {},
     "output_type": "execute_result"
    }
   ],
   "source": [
    "data.head(3)"
   ]
  },
  {
   "cell_type": "code",
   "execution_count": 10,
   "metadata": {},
   "outputs": [],
   "source": [
    "#Recall score is used as a measure of performance\n",
    "#Here, Logistic Regression and Decision Tree have the same value 0.85 while Random Forest has a value of 0.90\n",
    "#The default cut off is 0.5\n",
    "#Here Logistic Regression and Random Forest models are compared graphically\n",
    "\n"
   ]
  },
  {
   "cell_type": "code",
   "execution_count": 18,
   "metadata": {},
   "outputs": [],
   "source": [
    "\n",
    "data.drop('issue_d',axis=1,inplace=True)"
   ]
  },
  {
   "cell_type": "code",
   "execution_count": 20,
   "metadata": {},
   "outputs": [],
   "source": [
    "y=data['default_ind']\n",
    "X=data.drop('default_ind',axis=1)"
   ]
  },
  {
   "cell_type": "code",
   "execution_count": 22,
   "metadata": {},
   "outputs": [],
   "source": [
    "from sklearn.model_selection import train_test_split\n",
    "X_train,X_test,y_train,y_test=train_test_split(X,y,test_size=0.2,random_state=42)"
   ]
  },
  {
   "cell_type": "code",
   "execution_count": null,
   "metadata": {},
   "outputs": [],
   "source": []
  },
  {
   "cell_type": "code",
   "execution_count": 29,
   "metadata": {},
   "outputs": [
    {
     "name": "stdout",
     "output_type": "stream",
     "text": [
      "0    441856\n",
      "1     44303\n",
      "Name: default_ind, dtype: int64\n"
     ]
    },
    {
     "data": {
      "image/png": "[encoded data removed]",
      "text/plain": [
       "<Figure size 432x288 with 1 Axes>"
      ]
     },
     "metadata": {},
     "output_type": "display_data"
    }
   ],
   "source": [
    "import matplotlib.pyplot as plt\n",
    "%matplotlib inline\n",
    "import seaborn as sns\n",
    "print(data['default_ind'].value_counts())\n",
    "ax = sns.countplot(x='default_ind',data=data)\n",
    "#Imbalanced class distribution is seen here"
   ]
  },
  {
   "cell_type": "code",
   "execution_count": 31,
   "metadata": {},
   "outputs": [
    {
     "name": "stdout",
     "output_type": "stream",
     "text": [
      "Training Set Shape after oversampling:  (707196, 37) (707196,)\n",
      "col_0       0       1\n",
      "row_0                \n",
      "0      353598       0\n",
      "1           0  353598\n"
     ]
    }
   ],
   "source": [
    "#Handling imbalanced classe\n",
    "\n",
    "from imblearn.over_sampling import SMOTE\n",
    "doOversampling = True\n",
    "\n",
    "if doOversampling:\n",
    "# Apply regular SMOTE - Synthetic Minority Over-sampling Technique\n",
    "    sm = SMOTE(kind='regular')\n",
    "    X_train, y_train, = sm.fit_sample(X_train, y_train)\n",
    "    print('Training Set Shape after oversampling: ', X_train.shape, y_train.shape)\n",
    "    print(pd.crosstab(y_train,y_train))\n",
    "else:\n",
    "    X_train = X_train\n",
    "    y_train = y_train "
   ]
  },
  {
   "cell_type": "code",
   "execution_count": 33,
   "metadata": {},
   "outputs": [
    {
     "data": {
      "image/png": "[encoded data removed]",
      "text/plain": [
       "<Figure size 432x288 with 1 Axes>"
      ]
     },
     "metadata": {},
     "output_type": "display_data"
    }
   ],
   "source": [
    "#To check the new distribution\n",
    "check = pd.DataFrame(y_train)\n",
    "#check.head(5)\n",
    "import seaborn as sns\n",
    "ax = sns.countplot(x=0, data=check)"
   ]
  },
  {
   "cell_type": "code",
   "execution_count": 34,
   "metadata": {},
   "outputs": [],
   "source": [
    "#Building Logistic model\n",
    "from sklearn.linear_model import LogisticRegression\n",
    "logmodel=LogisticRegression()\n",
    "logmodel.fit(X_train,y_train)\n"
   ]
  },
  {
   "cell_type": "code",
   "execution_count": 37,
   "metadata": {},
   "outputs": [],
   "source": [
    "metrics=pd.DataFrame(index=[\"Accuracy\",\"Precision\",\"Recall\"],columns=[\"Logistic Regression\",\"Random Forest\"])"
   ]
  },
  {
   "cell_type": "code",
   "execution_count": 87,
   "metadata": {},
   "outputs": [],
   "source": [
    "from sklearn.metrics import accuracy_score, recall_score,precision_score,confusion_matrix,classification_report\n",
    "#Evaluating the model\n",
    "predictions=logmodel.predict(X_test)\n",
    "metrics.loc[\"Accuracy\",\"Logistic Regression\"]=accuracy_score(y_test,predictions)\n",
    "metrics.loc[\"Precision\",\"Logistic Regression\"]=precision_score(y_test,predictions)\n",
    "metrics.loc[\"Recall\",\"Logistic Regression\"]=recall_score(y_test,predictions)"
   ]
  },
  {
   "cell_type": "code",
   "execution_count": 48,
   "metadata": {},
   "outputs": [
    {
     "name": "stdout",
     "output_type": "stream",
     "text": [
      "[[87352   906]\n",
      " [  518  8456]]\n"
     ]
    }
   ],
   "source": [
    "#Print Confusion Matrix\n",
    "print(confusion_matrix(y_test,predictions))"
   ]
  },
  {
   "cell_type": "code",
   "execution_count": 41,
   "metadata": {},
   "outputs": [
    {
     "data": {
      "text/plain": [
       "RandomForestClassifier(bootstrap=True, class_weight=None, criterion='gini',\n",
       "            max_depth=None, max_features='auto', max_leaf_nodes=None,\n",
       "            min_impurity_decrease=0.0, min_impurity_split=None,\n",
       "            min_samples_leaf=1, min_samples_split=2,\n",
       "            min_weight_fraction_leaf=0.0, n_estimators=10, n_jobs=1,\n",
       "            oob_score=False, random_state=1, verbose=0, warm_start=False)"
      ]
     },
     "execution_count": 41,
     "metadata": {},
     "output_type": "execute_result"
    }
   ],
   "source": [
    "#RandomForest begins\n",
    "from sklearn.ensemble import RandomForestClassifier\n",
    "rf=RandomForestClassifier(random_state=1)\n",
    "rf.fit(X_train,y_train)\n"
   ]
  },
  {
   "cell_type": "code",
   "execution_count": 42,
   "metadata": {},
   "outputs": [],
   "source": [
    "#Evaluating the model\n",
    "y_pred=rf.predict(X_test)\n",
    "metrics.loc[\"Accuracy\",\"Random Forest\"]=accuracy_score(y_test,y_pred)\n",
    "metrics.loc[\"Precision\",\"Random Forest\"]=precision_score(y_test,y_pred)\n",
    "metrics.loc[\"Recall\",\"Random Forest\"]=recall_score(y_test,y_pred)\n"
   ]
  },
  {
   "cell_type": "code",
   "execution_count": 49,
   "metadata": {},
   "outputs": [
    {
     "name": "stdout",
     "output_type": "stream",
     "text": [
      "[[88047   211]\n",
      " [  911  8063]]\n"
     ]
    }
   ],
   "source": [
    "print(confusion_matrix(y_test,y_pred))"
   ]
  },
  {
   "cell_type": "code",
   "execution_count": 45,
   "metadata": {},
   "outputs": [
    {
     "name": "stdout",
     "output_type": "stream",
     "text": [
      "          Logistic Regression Random Forest\n",
      "Accuracy              98.5355       98.8461\n",
      "Precision             90.3226       97.4498\n",
      "Recall                94.2278       89.8485\n"
     ]
    }
   ],
   "source": [
    "print(metrics*100)"
   ]
  },
  {
   "cell_type": "code",
   "execution_count": 57,
   "metadata": {},
   "outputs": [
    {
     "data": {
      "image/png": "[encoded data removed]",
      "text/plain": [
       "<Figure size 720x360 with 1 Axes>"
      ]
     },
     "metadata": {},
     "output_type": "display_data"
    }
   ],
   "source": [
    "#plotting the graph\n",
    "import matplotlib.pyplot as plt\n",
    "fx,ax=plt.subplots(figsize=(10,5))\n",
    "metrics.plot(kind=\"barh\",ax=ax)\n",
    "ax.grid()"
   ]
  },
  {
   "cell_type": "code",
   "execution_count": 61,
   "metadata": {},
   "outputs": [],
   "source": [
    "from sklearn.metrics import precision_recall_curve\n",
    "precision_lr,recall_lr,threshold_lr=precision_recall_curve(y_test,logmodel.predict_proba(X_test)[:,1])\n",
    "precision_rf,recall_rf,threshold_rf=precision_recall_curve(y_test,rf.predict_proba(X_test)[:,1])"
   ]
  },
  {
   "cell_type": "code",
   "execution_count": 65,
   "metadata": {},
   "outputs": [
    {
     "data": {
      "image/png": "[encoded data removed]",
      "text/plain": [
       "<Figure size 720x360 with 1 Axes>"
      ]
     },
     "metadata": {},
     "output_type": "display_data"
    }
   ],
   "source": [
    "#plotting the precision recall curve\n",
    "fx,ax=plt.subplots(figsize=(10,5))\n",
    "ax.plot(precision_lr,recall_lr,label=\"Logistic Regression\")\n",
    "ax.plot(precision_rf,recall_rf,label=\"Random Forest\")\n",
    "ax.set_xlabel(\"Precision\")\n",
    "ax.set_ylabel(\"Recall\")\n",
    "ax.set_title(\"Precision-Recall curve\")\n",
    "ax.hlines(y=0.5,xmin=0,xmax=1,color='red')\n",
    "ax.legend()\n",
    "ax.grid()"
   ]
  },
  {
   "cell_type": "code",
   "execution_count": 76,
   "metadata": {},
   "outputs": [],
   "source": [
    "#Here Random Forest is a better model than Logistic regression given a particular level of recall\n",
    "#Adjusting Logistic Regression to have a similar value as Random Forest\n"
   ]
  },
  {
   "cell_type": "code",
   "execution_count": 80,
   "metadata": {},
   "outputs": [
    {
     "data": {
      "image/png": "[encoded data removed]",
      "text/plain": [
       "<Figure size 720x360 with 1 Axes>"
      ]
     },
     "metadata": {},
     "output_type": "display_data"
    }
   ],
   "source": [
    "#Looking at Threshold for logistic Regression\n",
    "fx,ax=plt.subplots(figsize=(10,5))\n",
    "ax.plot(threshold_lr,precision_lr[1:],label=\"Precision\")\n",
    "ax.plot(threshold_lr,recall_lr[1:],label=\"Recall\")\n",
    "ax.set_xlabel(\"Classification Threshold\")\n",
    "ax.set_ylabel(\"Precision Score\")\n",
    "ax.set_title(\"Precision-Recall curve\")\n",
    "ax.hlines(y=0.6,xmin=0,xmax=1,color='red')\n",
    "ax.legend()\n",
    "ax.grid()"
   ]
  },
  {
   "cell_type": "code",
   "execution_count": 83,
   "metadata": {},
   "outputs": [
    {
     "name": "stdout",
     "output_type": "stream",
     "text": [
      "Precision is 58.12310797174571\n",
      "Recall is 96.27813683975931\n"
     ]
    }
   ],
   "source": [
    "#Classfication threshold of 0.2\n",
    "y_pred_proba=logmodel.predict_proba(X_test)[:,1]\n",
    "y_pred_test=(y_pred_proba>=0.2).astype(int)\n",
    "print(\"Precision is\",precision_score(y_test,y_pred_test)*100)\n",
    "print(\"Recall is\",recall_score(y_test,y_pred_test)*100)"
   ]
  },
  {
   "cell_type": "code",
   "execution_count": null,
   "metadata": {},
   "outputs": [],
   "source": []
  },
  {
   "cell_type": "code",
   "execution_count": 85,
   "metadata": {},
   "outputs": [
    {
     "data": {
      "text/plain": [
       "array([[82033,  6225],\n",
       "       [  334,  8640]], dtype=int64)"
      ]
     },
     "execution_count": 85,
     "metadata": {},
     "output_type": "execute_result"
    }
   ],
   "source": [
    "confusion_matrix(y_test,y_pred_test)"
   ]
  },
  {
   "cell_type": "code",
   "execution_count": 90,
   "metadata": {},
   "outputs": [
    {
     "name": "stdout",
     "output_type": "stream",
     "text": [
      "             precision    recall  f1-score   support\n",
      "\n",
      "          0       1.00      0.93      0.96     88258\n",
      "          1       0.58      0.96      0.72      8974\n",
      "\n",
      "avg / total       0.96      0.93      0.94     97232\n",
      "\n"
     ]
    }
   ],
   "source": [
    "print(classification_report(y_test,y_pred_test))"
   ]
  },
  {
   "cell_type": "code",
   "execution_count": 96,
   "metadata": {},
   "outputs": [
    {
     "name": "stdout",
     "output_type": "stream",
     "text": [
      "Precision is 56.33179243440328\n",
      "Recall is 96.41185647425897\n"
     ]
    }
   ],
   "source": [
    "y_pred_proba=logmodel.predict_proba(X_test)[:,1]\n",
    "y_pred_test=(y_pred_proba>=0.19).astype(int)\n",
    "print(\"Precision is\",precision_score(y_test,y_pred_test)*100)\n",
    "print(\"Recall is\",recall_score(y_test,y_pred_test)*100)"
   ]
  },
  {
   "cell_type": "code",
   "execution_count": 97,
   "metadata": {},
   "outputs": [
    {
     "name": "stdout",
     "output_type": "stream",
     "text": [
      "Precision is 49.209497364991215\n",
      "Recall is 96.76844216625808\n"
     ]
    }
   ],
   "source": [
    "y_pred_proba=logmodel.predict_proba(X_test)[:,1]\n",
    "y_pred_test=(y_pred_proba>=0.15).astype(int)\n",
    "print(\"Precision is\",precision_score(y_test,y_pred_test)*100)\n",
    "print(\"Recall is\",recall_score(y_test,y_pred_test)*100)"
   ]
  },
  {
   "cell_type": "code",
   "execution_count": 98,
   "metadata": {},
   "outputs": [
    {
     "name": "stdout",
     "output_type": "stream",
     "text": [
      "Precision is 39.96333638863428\n",
      "Recall is 97.16960106975708\n"
     ]
    }
   ],
   "source": [
    "y_pred_proba=logmodel.predict_proba(X_test)[:,1]\n",
    "y_pred_test=(y_pred_proba>=0.10).astype(int)\n",
    "print(\"Precision is\",precision_score(y_test,y_pred_test)*100)\n",
    "print(\"Recall is\",recall_score(y_test,y_pred_test)*100)"
   ]
  },
  {
   "cell_type": "code",
   "execution_count": 120,
   "metadata": {},
   "outputs": [],
   "source": [
    "#Test data check\n",
    "testdata=pd.read_csv(\"TestData_CSM.csv\")"
   ]
  },
  {
   "cell_type": "code",
   "execution_count": 121,
   "metadata": {},
   "outputs": [],
   "source": [
    "testdata.drop('issue_d',axis=1,inplace=True)\n",
    "y=testdata['default_ind']\n",
    "X=testdata.drop('default_ind',axis=1)"
   ]
  },
  {
   "cell_type": "code",
   "execution_count": 122,
   "metadata": {},
   "outputs": [
    {
     "name": "stdout",
     "output_type": "stream",
     "text": [
      "Precision is 2.857993450431676\n",
      "Recall is 88.72458410351202\n"
     ]
    }
   ],
   "source": [
    "y_pred_proba=logmodel.predict_proba(X)[:,1]\n",
    "y_pred_test=(y_pred_proba>=0.10).astype(int)\n",
    "print(\"Precision is\",precision_score(y,y_pred_test)*100)\n",
    "print(\"Recall is\",recall_score(y,y_pred_test)*100)"
   ]
  },
  {
   "cell_type": "code",
   "execution_count": 123,
   "metadata": {},
   "outputs": [
    {
     "name": "stdout",
     "output_type": "stream",
     "text": [
      "Precision is 4.198464839516005\n",
      "Recall is 87.7079482439926\n"
     ]
    }
   ],
   "source": [
    "y_pred_proba=logmodel.predict_proba(X)[:,1]\n",
    "y_pred_test=(y_pred_proba>=0.15).astype(int)\n",
    "print(\"Precision is\",precision_score(y,y_pred_test)*100)\n",
    "print(\"Recall is\",recall_score(y,y_pred_test)*100)"
   ]
  },
  {
   "cell_type": "code",
   "execution_count": 126,
   "metadata": {},
   "outputs": [
    {
     "name": "stdout",
     "output_type": "stream",
     "text": [
      "Precision is 5.741451819345402\n",
      "Recall is 87.06099815157117\n"
     ]
    }
   ],
   "source": [
    "y_pred_proba=logmodel.predict_proba(X)[:,1]\n",
    "y_pred_test=(y_pred_proba>=0.19).astype(int)\n",
    "print(\"Precision is\",precision_score(y,y_pred_test)*100)\n",
    "print(\"Recall is\",recall_score(y,y_pred_test)*100)"
   ]
  },
  {
   "cell_type": "code",
   "execution_count": null,
   "metadata": {},
   "outputs": [],
   "source": []
  },
  {
   "cell_type": "code",
   "execution_count": null,
   "metadata": {},
   "outputs": [],
   "source": []
  }
 ],
 "metadata": {
  "kernelspec": {
   "display_name": "Python 3",
   "language": "python",
   "name": "python3"
  },
  "language_info": {
   "codemirror_mode": {
    "name": "ipython",
    "version": 3
   },
   "file_extension": ".py",
   "mimetype": "text/x-python",
   "name": "python",
   "nbconvert_exporter": "python",
   "pygments_lexer": "ipython3",
   "version": "3.6.5"
  }
 },
 "nbformat": 4,
 "nbformat_minor": 2
}
