{
 "cells": [
  {
   "cell_type": "code",
   "execution_count": 55,
   "metadata": {},
   "outputs": [
    {
     "name": "stdout",
     "output_type": "stream",
     "text": [
      "C:\\Users\\mghn_\\Desktop\\Imarticus_Project\n"
     ]
    }
   ],
   "source": [
    "import os\n",
    "path = \"C:/Users/mghn_/Desktop/Imarticus_Project\"\n",
    "os.chdir(path)\n",
    "print(os.getcwd())"
   ]
  },
  {
   "cell_type": "code",
   "execution_count": 56,
   "metadata": {},
   "outputs": [
    {
     "name": "stdout",
     "output_type": "stream",
     "text": [
      "C:\\Users\\mghn_\\Desktop\\Imarticus_Project\n"
     ]
    }
   ],
   "source": [
    "print(os.getcwd())"
   ]
  },
  {
   "cell_type": "code",
   "execution_count": 57,
   "metadata": {},
   "outputs": [],
   "source": [
    "import pandas as pd\n",
    "import numpy as np\n",
    "\n",
    "data=pd.read_csv(\"TrainData_CSM.csv\")"
   ]
  },
  {
   "cell_type": "code",
   "execution_count": null,
   "metadata": {},
   "outputs": [],
   "source": []
  },
  {
   "cell_type": "code",
   "execution_count": 58,
   "metadata": {},
   "outputs": [
    {
     "data": {
      "text/html": [
       "<div>\n",
       "<style scoped>\n",
       "    .dataframe tbody tr th:only-of-type {\n",
       "        vertical-align: middle;\n",
       "    }\n",
       "\n",
       "    .dataframe tbody tr th {\n",
       "        vertical-align: top;\n",
       "    }\n",
       "\n",
       "    .dataframe thead th {\n",
       "        text-align: right;\n",
       "    }\n",
       "</style>\n",
       "<table border=\"1\" class=\"dataframe\">\n",
       "  <thead>\n",
       "    <tr style=\"text-align: right;\">\n",
       "      <th></th>\n",
       "      <th>loan_amnt</th>\n",
       "      <th>term</th>\n",
       "      <th>int_rate</th>\n",
       "      <th>grade</th>\n",
       "      <th>sub_grade</th>\n",
       "      <th>emp_title</th>\n",
       "      <th>emp_length</th>\n",
       "      <th>home_ownership</th>\n",
       "      <th>annual_inc</th>\n",
       "      <th>verification_status</th>\n",
       "      <th>...</th>\n",
       "      <th>total_rec_late_fee</th>\n",
       "      <th>recoveries</th>\n",
       "      <th>last_pymnt_amnt</th>\n",
       "      <th>collections_12_mths_ex_med</th>\n",
       "      <th>policy_code</th>\n",
       "      <th>application_type</th>\n",
       "      <th>acc_now_delinq</th>\n",
       "      <th>tot_coll_amt</th>\n",
       "      <th>tot_cur_bal</th>\n",
       "      <th>default_ind</th>\n",
       "    </tr>\n",
       "  </thead>\n",
       "  <tbody>\n",
       "    <tr>\n",
       "      <th>0</th>\n",
       "      <td>5000.0</td>\n",
       "      <td>0</td>\n",
       "      <td>10.65</td>\n",
       "      <td>1</td>\n",
       "      <td>21</td>\n",
       "      <td>150119</td>\n",
       "      <td>10.0</td>\n",
       "      <td>2</td>\n",
       "      <td>24000.0</td>\n",
       "      <td>2</td>\n",
       "      <td>...</td>\n",
       "      <td>0.0</td>\n",
       "      <td>0.0</td>\n",
       "      <td>171.62</td>\n",
       "      <td>0.0</td>\n",
       "      <td>1.0</td>\n",
       "      <td>0</td>\n",
       "      <td>0.0</td>\n",
       "      <td>0.0</td>\n",
       "      <td>81008.5</td>\n",
       "      <td>0</td>\n",
       "    </tr>\n",
       "    <tr>\n",
       "      <th>1</th>\n",
       "      <td>2500.0</td>\n",
       "      <td>1</td>\n",
       "      <td>15.27</td>\n",
       "      <td>2</td>\n",
       "      <td>33</td>\n",
       "      <td>186161</td>\n",
       "      <td>0.5</td>\n",
       "      <td>2</td>\n",
       "      <td>30000.0</td>\n",
       "      <td>1</td>\n",
       "      <td>...</td>\n",
       "      <td>0.0</td>\n",
       "      <td>0.0</td>\n",
       "      <td>119.66</td>\n",
       "      <td>0.0</td>\n",
       "      <td>1.0</td>\n",
       "      <td>0</td>\n",
       "      <td>0.0</td>\n",
       "      <td>0.0</td>\n",
       "      <td>81008.5</td>\n",
       "      <td>1</td>\n",
       "    </tr>\n",
       "    <tr>\n",
       "      <th>2</th>\n",
       "      <td>2400.0</td>\n",
       "      <td>0</td>\n",
       "      <td>15.96</td>\n",
       "      <td>2</td>\n",
       "      <td>34</td>\n",
       "      <td>150119</td>\n",
       "      <td>10.0</td>\n",
       "      <td>2</td>\n",
       "      <td>12252.0</td>\n",
       "      <td>0</td>\n",
       "      <td>...</td>\n",
       "      <td>0.0</td>\n",
       "      <td>0.0</td>\n",
       "      <td>649.91</td>\n",
       "      <td>0.0</td>\n",
       "      <td>1.0</td>\n",
       "      <td>0</td>\n",
       "      <td>0.0</td>\n",
       "      <td>0.0</td>\n",
       "      <td>81008.5</td>\n",
       "      <td>0</td>\n",
       "    </tr>\n",
       "  </tbody>\n",
       "</table>\n",
       "<p>3 rows × 39 columns</p>\n",
       "</div>"
      ],
      "text/plain": [
       "   loan_amnt  term  int_rate  grade  sub_grade  emp_title  emp_length  \\\n",
       "0     5000.0     0     10.65      1         21     150119        10.0   \n",
       "1     2500.0     1     15.27      2         33     186161         0.5   \n",
       "2     2400.0     0     15.96      2         34     150119        10.0   \n",
       "\n",
       "   home_ownership  annual_inc  verification_status     ...       \\\n",
       "0               2     24000.0                    2     ...        \n",
       "1               2     30000.0                    1     ...        \n",
       "2               2     12252.0                    0     ...        \n",
       "\n",
       "  total_rec_late_fee  recoveries  last_pymnt_amnt  collections_12_mths_ex_med  \\\n",
       "0                0.0         0.0           171.62                         0.0   \n",
       "1                0.0         0.0           119.66                         0.0   \n",
       "2                0.0         0.0           649.91                         0.0   \n",
       "\n",
       "   policy_code  application_type  acc_now_delinq  tot_coll_amt  tot_cur_bal  \\\n",
       "0          1.0                 0             0.0           0.0      81008.5   \n",
       "1          1.0                 0             0.0           0.0      81008.5   \n",
       "2          1.0                 0             0.0           0.0      81008.5   \n",
       "\n",
       "   default_ind  \n",
       "0            0  \n",
       "1            1  \n",
       "2            0  \n",
       "\n",
       "[3 rows x 39 columns]"
      ]
     },
     "execution_count": 58,
     "metadata": {},
     "output_type": "execute_result"
    }
   ],
   "source": [
    "data.head(3)"
   ]
  },
  {
   "cell_type": "code",
   "execution_count": 59,
   "metadata": {},
   "outputs": [],
   "source": [
    "data.drop(\"issue_d\",axis=1,inplace=True)"
   ]
  },
  {
   "cell_type": "code",
   "execution_count": 60,
   "metadata": {},
   "outputs": [],
   "source": [
    "y=data['default_ind']\n"
   ]
  },
  {
   "cell_type": "code",
   "execution_count": 62,
   "metadata": {},
   "outputs": [],
   "source": [
    "X=data.drop('default_ind',axis=1)"
   ]
  },
  {
   "cell_type": "code",
   "execution_count": 63,
   "metadata": {},
   "outputs": [],
   "source": [
    "from sklearn.model_selection import train_test_split\n",
    "X_train,X_test,y_train,y_test=train_test_split(X,y,test_size=0.2,random_state=42)"
   ]
  },
  {
   "cell_type": "code",
   "execution_count": 64,
   "metadata": {},
   "outputs": [
    {
     "name": "stdout",
     "output_type": "stream",
     "text": [
      "0    441856\n",
      "1     44303\n",
      "Name: default_ind, dtype: int64\n"
     ]
    },
    {
     "data": {
      "image/png": "[encoded data removed]",
      "text/plain": [
       "<Figure size 432x288 with 1 Axes>"
      ]
     },
     "metadata": {},
     "output_type": "display_data"
    }
   ],
   "source": [
    "#Visualise the Dataset - target column distribution\n",
    "import matplotlib.pyplot as plt\n",
    "%matplotlib inline\n",
    "import seaborn as sns\n",
    "print(data['default_ind'].value_counts())\n",
    "ax = sns.countplot(x='default_ind',data=data)\n",
    "#Imbalanced class distribution is seen here"
   ]
  },
  {
   "cell_type": "code",
   "execution_count": 66,
   "metadata": {},
   "outputs": [
    {
     "name": "stdout",
     "output_type": "stream",
     "text": [
      "Training Set Shape after oversampling:  (707196, 37) (707196,)\n",
      "col_0       0       1\n",
      "row_0                \n",
      "0      353598       0\n",
      "1           0  353598\n"
     ]
    }
   ],
   "source": [
    "# Oversampling of underrepresented class\n",
    "# Class to perform over-sampling using SMOTE\n",
    "\n",
    "from imblearn.over_sampling import SMOTE\n",
    "doOversampling = True\n",
    "\n",
    "if doOversampling:\n",
    "# Apply regular SMOTE - Synthetic Minority Over-sampling Technique\n",
    "    sm = SMOTE(kind='regular')\n",
    "    X_train, y_train, = sm.fit_sample(X_train, y_train)\n",
    "    print('Training Set Shape after oversampling: ', X_train.shape, y_train.shape)\n",
    "    print(pd.crosstab(y_train,y_train))\n",
    "else:\n",
    "    X_train = X_train\n",
    "    y_train = y_train "
   ]
  },
  {
   "cell_type": "code",
   "execution_count": 67,
   "metadata": {},
   "outputs": [
    {
     "data": {
      "image/png": "[encoded data removed]",
      "text/plain": [
       "<Figure size 432x288 with 1 Axes>"
      ]
     },
     "metadata": {},
     "output_type": "display_data"
    }
   ],
   "source": [
    "#To check the new distribution\n",
    "check = pd.DataFrame(y_train)\n",
    "#check.head(5)\n",
    "import seaborn as sns\n",
    "ax = sns.countplot(x=0, data=check)"
   ]
  },
  {
   "cell_type": "code",
   "execution_count": 68,
   "metadata": {},
   "outputs": [],
   "source": [
    "from sklearn.tree import DecisionTreeClassifier\n",
    "#First split criterion used in Gini Index"
   ]
  },
  {
   "cell_type": "code",
   "execution_count": 69,
   "metadata": {},
   "outputs": [],
   "source": [
    "dt_gini=DecisionTreeClassifier(criterion=\"gini\",min_samples_leaf=0.03,max_depth=3,random_state=1) \n"
   ]
  },
  {
   "cell_type": "code",
   "execution_count": 70,
   "metadata": {},
   "outputs": [],
   "source": [
    "gini_predict=dt_gini.fit(X_train,y_train)"
   ]
  },
  {
   "cell_type": "code",
   "execution_count": 72,
   "metadata": {},
   "outputs": [],
   "source": [
    "y_pred=dt_gini.predict(X_test)"
   ]
  },
  {
   "cell_type": "code",
   "execution_count": 73,
   "metadata": {},
   "outputs": [
    {
     "name": "stdout",
     "output_type": "stream",
     "text": [
      "----------Using Gini on training data-----------\n",
      "Classification Report:\n",
      "              precision    recall  f1-score   support\n",
      "\n",
      "          0       1.00      0.88      0.94     88258\n",
      "          1       0.46      0.97      0.62      8974\n",
      "\n",
      "avg / total       0.95      0.89      0.91     97232\n",
      "\n",
      "Confusion Matrix \n",
      " [[77883 10375]\n",
      " [  241  8733]]\n",
      "The test accuracy is {:.3f} 0.89082\n"
     ]
    }
   ],
   "source": [
    "from sklearn.metrics import accuracy_score\n",
    "from sklearn.metrics import classification_report\n",
    "from sklearn.metrics import confusion_matrix\n",
    "\n",
    "print(\"----------Using Gini on training data-----------\")\n",
    "print(\"Classification Report:\\n\",classification_report(y_test,y_pred))\n",
    "print(\"Confusion Matrix \\n\",confusion_matrix(y_test,y_pred))\n",
    "acc_score=accuracy_score(y_test,y_pred)\n",
    "print(\"The test accuracy is {:.3f}\",round(acc_score,5))\n",
    "\n"
   ]
  },
  {
   "cell_type": "code",
   "execution_count": 74,
   "metadata": {},
   "outputs": [],
   "source": [
    "testData=pd.read_csv(\"TestData_CSM.csv\")"
   ]
  },
  {
   "cell_type": "code",
   "execution_count": 75,
   "metadata": {},
   "outputs": [],
   "source": [
    "testData.drop('issue_d',axis=1,inplace=True)"
   ]
  },
  {
   "cell_type": "code",
   "execution_count": 76,
   "metadata": {},
   "outputs": [],
   "source": [
    "y=testData['default_ind']\n",
    "X=testData.drop('default_ind',axis=1)"
   ]
  },
  {
   "cell_type": "code",
   "execution_count": 77,
   "metadata": {},
   "outputs": [],
   "source": [
    "y_testData=dt_gini.predict(X)"
   ]
  },
  {
   "cell_type": "code",
   "execution_count": null,
   "metadata": {},
   "outputs": [],
   "source": []
  },
  {
   "cell_type": "code",
   "execution_count": 78,
   "metadata": {},
   "outputs": [
    {
     "name": "stdout",
     "output_type": "stream",
     "text": [
      "----------Using Gini on Test Data-----------\n",
      "Classification Report:\n",
      "              precision    recall  f1-score   support\n",
      "\n",
      "          0       1.00      1.00      1.00    367646\n",
      "          1       0.58      0.86      0.69      2164\n",
      "\n",
      "avg / total       1.00      1.00      1.00    369810\n",
      "\n",
      "Confusion Matrix \n",
      " [[366322   1324]\n",
      " [   309   1855]]\n",
      "The test accuracy is {:.3f} 0.99558\n"
     ]
    }
   ],
   "source": [
    "print(\"----------Using Gini on Test Data-----------\")\n",
    "print(\"Classification Report:\\n\",classification_report(y,y_testData))\n",
    "print(\"Confusion Matrix \\n\",confusion_matrix(y, y_testData))\n",
    "acc_score=accuracy_score(y,y_testData)\n",
    "acc_score_test=accuracy_score(y,y_testData)\n",
    "print(\"The test accuracy is {:.3f}\",round(acc_score_test,5))"
   ]
  },
  {
   "cell_type": "code",
   "execution_count": 79,
   "metadata": {},
   "outputs": [],
   "source": [
    "#Now using entropy\n",
    "dt_entropy=DecisionTreeClassifier(criterion=\"entropy\",min_samples_leaf=0.03,max_depth=3,random_state=1) \n"
   ]
  },
  {
   "cell_type": "code",
   "execution_count": 80,
   "metadata": {},
   "outputs": [],
   "source": [
    "entropy_predict=dt_entropy.fit(X_train,y_train)"
   ]
  },
  {
   "cell_type": "code",
   "execution_count": 81,
   "metadata": {},
   "outputs": [],
   "source": [
    "y_pred_entropy=dt_entropy.predict(X_test)"
   ]
  },
  {
   "cell_type": "code",
   "execution_count": 82,
   "metadata": {},
   "outputs": [
    {
     "name": "stdout",
     "output_type": "stream",
     "text": [
      "----------Using Entropy on Training Data-----------\n",
      "Classification Report:\n",
      "              precision    recall  f1-score   support\n",
      "\n",
      "          0       1.00      0.88      0.94     88258\n",
      "          1       0.46      0.97      0.62      8974\n",
      "\n",
      "avg / total       0.95      0.89      0.91     97232\n",
      "\n",
      "Confusion Matrix \n",
      " [[77848 10410]\n",
      " [  241  8733]]\n",
      "The test accuracy is {:.3f} 0.89046\n"
     ]
    }
   ],
   "source": [
    "print(\"----------Using Entropy on Training Data-----------\")\n",
    "print(\"Classification Report:\\n\",classification_report(y_test,y_pred_entropy))\n",
    "print(\"Confusion Matrix \\n\",confusion_matrix(y_test,y_pred_entropy))\n",
    "acc_score_entropy_train=accuracy_score(y_test,y_pred_entropy)\n",
    "print(\"The test accuracy is {:.3f}\",round(acc_score_entropy_train,5))"
   ]
  },
  {
   "cell_type": "code",
   "execution_count": 83,
   "metadata": {},
   "outputs": [],
   "source": [
    "from sklearn.metrics import classification_report\n",
    "from sklearn.metrics import confusion_matrix"
   ]
  },
  {
   "cell_type": "code",
   "execution_count": 84,
   "metadata": {},
   "outputs": [],
   "source": [
    "y_testData=dt_entropy.predict(X)"
   ]
  },
  {
   "cell_type": "code",
   "execution_count": 85,
   "metadata": {},
   "outputs": [
    {
     "name": "stdout",
     "output_type": "stream",
     "text": [
      "----------Using Entropy on Test Data-----------\n",
      "Classification Report:\n",
      "              precision    recall  f1-score   support\n",
      "\n",
      "          0       1.00      1.00      1.00    367646\n",
      "          1       0.58      0.86      0.69      2164\n",
      "\n",
      "avg / total       1.00      1.00      1.00    369810\n",
      "\n",
      "Confusion Matrix \n",
      " [[366312   1334]\n",
      " [   309   1855]]\n",
      "The test accuracy is {:.3f} 0.9955571780103296\n"
     ]
    }
   ],
   "source": [
    "print(\"----------Using Entropy on Test Data-----------\")\n",
    "print(\"Classification Report:\\n\",classification_report(y,y_testData))\n",
    "print(\"Confusion Matrix \\n\",confusion_matrix(y, y_testData))\n",
    "acc_score=accuracy_score(y,y_testData)\n",
    "print(\"The test accuracy is {:.3f}\",acc_score)\n"
   ]
  },
  {
   "cell_type": "code",
   "execution_count": 86,
   "metadata": {},
   "outputs": [
    {
     "data": {
      "text/html": [
       "<div>\n",
       "<style scoped>\n",
       "    .dataframe tbody tr th:only-of-type {\n",
       "        vertical-align: middle;\n",
       "    }\n",
       "\n",
       "    .dataframe tbody tr th {\n",
       "        vertical-align: top;\n",
       "    }\n",
       "\n",
       "    .dataframe thead th {\n",
       "        text-align: right;\n",
       "    }\n",
       "</style>\n",
       "<table border=\"1\" class=\"dataframe\">\n",
       "  <thead>\n",
       "    <tr style=\"text-align: right;\">\n",
       "      <th></th>\n",
       "      <th>Model</th>\n",
       "      <th>ROC Score</th>\n",
       "      <th>Precision Score</th>\n",
       "      <th>Recall Score</th>\n",
       "      <th>Accuracy Score</th>\n",
       "    </tr>\n",
       "  </thead>\n",
       "  <tbody>\n",
       "    <tr>\n",
       "      <th>0</th>\n",
       "      <td>Decision Tree Report</td>\n",
       "      <td>0.92679</td>\n",
       "      <td>0.581687</td>\n",
       "      <td>0.857209</td>\n",
       "      <td>0.995557</td>\n",
       "    </tr>\n",
       "  </tbody>\n",
       "</table>\n",
       "</div>"
      ],
      "text/plain": [
       "                   Model  ROC Score  Precision Score  Recall Score  \\\n",
       "0   Decision Tree Report    0.92679         0.581687      0.857209   \n",
       "\n",
       "   Accuracy Score  \n",
       "0        0.995557  "
      ]
     },
     "execution_count": 86,
     "metadata": {},
     "output_type": "execute_result"
    }
   ],
   "source": [
    "from sklearn.metrics import precision_score\n",
    "from sklearn.metrics import recall_score\n",
    "from sklearn.metrics import accuracy_score\n",
    "from sklearn.metrics import roc_auc_score\n",
    "cols = ['Model', 'ROC Score', 'Precision Score', 'Recall Score','Accuracy Score']\n",
    "models_report = pd.DataFrame(columns = cols)\n",
    "tmp1 = pd.Series({'Model': \" Decision Tree Report\",\n",
    "                 'ROC Score' : roc_auc_score(y,y_testData),\n",
    "                 'Precision Score': precision_score(y,y_testData),\n",
    "                 'Recall Score': recall_score(y,y_testData),\n",
    "                 'Accuracy Score': accuracy_score(y,y_testData)})\n",
    "model1_report = models_report.append(tmp1, ignore_index = True)\n",
    "model1_report"
   ]
  },
  {
   "cell_type": "code",
   "execution_count": null,
   "metadata": {},
   "outputs": [],
   "source": [
    "#Model tuning Begins"
   ]
  },
  {
   "cell_type": "code",
   "execution_count": 87,
   "metadata": {},
   "outputs": [
    {
     "name": "stdout",
     "output_type": "stream",
     "text": [
      "<bound method BaseEstimator.get_params of DecisionTreeClassifier(class_weight=None, criterion='gini', max_depth=3,\n",
      "            max_features=None, max_leaf_nodes=None,\n",
      "            min_impurity_decrease=0.0, min_impurity_split=None,\n",
      "            min_samples_leaf=0.03, min_samples_split=2,\n",
      "            min_weight_fraction_leaf=0.0, presort=False, random_state=1,\n",
      "            splitter='best')>\n"
     ]
    }
   ],
   "source": [
    "print(dt_gini.get_params)"
   ]
  },
  {
   "cell_type": "code",
   "execution_count": 88,
   "metadata": {},
   "outputs": [],
   "source": [
    "#Model tuning on Gini index of TrainData.CSV\n",
    "from sklearn.model_selection import GridSearchCV"
   ]
  },
  {
   "cell_type": "code",
   "execution_count": 43,
   "metadata": {},
   "outputs": [],
   "source": [
    "params_dt={'max_depth':[3,4,5,6], 'min_samples_leaf':[0.03,0.04,0.05,0.06],'max_features':[0.2,0.4,0.6]}"
   ]
  },
  {
   "cell_type": "code",
   "execution_count": 44,
   "metadata": {},
   "outputs": [],
   "source": [
    "grid_dt=GridSearchCV(estimator=dt_gini,param_grid=params_dt,scoring='accuracy',cv=10,n_jobs=-1)"
   ]
  },
  {
   "cell_type": "code",
   "execution_count": 45,
   "metadata": {},
   "outputs": [],
   "source": [
    "gini_cv=grid_dt.fit(X_train,y_train)"
   ]
  },
  {
   "cell_type": "code",
   "execution_count": 46,
   "metadata": {},
   "outputs": [
    {
     "name": "stdout",
     "output_type": "stream",
     "text": [
      "Best parameters : {'max_depth': 5, 'max_features': 0.6, 'min_samples_leaf': 0.03}\n"
     ]
    }
   ],
   "source": [
    "best_hyperparam=gini_cv.best_params_\n",
    "print(\"Best parameters :\",best_hyperparam)"
   ]
  },
  {
   "cell_type": "code",
   "execution_count": 47,
   "metadata": {},
   "outputs": [
    {
     "name": "stdout",
     "output_type": "stream",
     "text": [
      "Best CV score : 0.9453265008600585\n"
     ]
    }
   ],
   "source": [
    "best_cv_score=gini_cv.best_score_\n",
    "print(\"Best CV score :\",best_cv_score)"
   ]
  },
  {
   "cell_type": "code",
   "execution_count": 48,
   "metadata": {},
   "outputs": [
    {
     "name": "stdout",
     "output_type": "stream",
     "text": [
      "The best estimators  DecisionTreeClassifier(class_weight=None, criterion='gini', max_depth=5,\n",
      "            max_features=0.6, max_leaf_nodes=None,\n",
      "            min_impurity_decrease=0.0, min_impurity_split=None,\n",
      "            min_samples_leaf=0.03, min_samples_split=2,\n",
      "            min_weight_fraction_leaf=0.0, presort=False, random_state=1,\n",
      "            splitter='best')\n"
     ]
    }
   ],
   "source": [
    "best_model=gini_cv.best_estimator_\n",
    "print(\"The best estimators \",gini_cv.best_estimator_)"
   ]
  },
  {
   "cell_type": "code",
   "execution_count": 49,
   "metadata": {},
   "outputs": [],
   "source": [
    "#Trying to compute accuracy on validation set\n",
    "test_accuracy=best_model.score(X_test,y_test)"
   ]
  },
  {
   "cell_type": "code",
   "execution_count": 50,
   "metadata": {},
   "outputs": [
    {
     "name": "stdout",
     "output_type": "stream",
     "text": [
      "Best accuracy 0.9447609840381768\n"
     ]
    }
   ],
   "source": [
    "print(\"Best accuracy\",test_accuracy)"
   ]
  },
  {
   "cell_type": "code",
   "execution_count": 51,
   "metadata": {},
   "outputs": [
    {
     "name": "stdout",
     "output_type": "stream",
     "text": [
      "Performance on unseen data 0.9979232578891863\n"
     ]
    }
   ],
   "source": [
    "#Testing on training data\n",
    "testData_accuracy=best_model.score(X,y)\n",
    "print(\"Performance on unseen data\",testData_accuracy)"
   ]
  },
  {
   "cell_type": "code",
   "execution_count": null,
   "metadata": {},
   "outputs": [],
   "source": [
    "\n"
   ]
  },
  {
   "cell_type": "code",
   "execution_count": null,
   "metadata": {},
   "outputs": [],
   "source": []
  }
 ],
 "metadata": {
  "kernelspec": {
   "display_name": "Python 3",
   "language": "python",
   "name": "python3"
  },
  "language_info": {
   "codemirror_mode": {
    "name": "ipython",
    "version": 3
   },
   "file_extension": ".py",
   "mimetype": "text/x-python",
   "name": "python",
   "nbconvert_exporter": "python",
   "pygments_lexer": "ipython3",
   "version": "3.6.5"
  }
 },
 "nbformat": 4,
 "nbformat_minor": 2
}
